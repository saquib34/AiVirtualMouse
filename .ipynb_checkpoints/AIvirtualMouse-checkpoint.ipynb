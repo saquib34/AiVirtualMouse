{
 "cells": [
  {
   "cell_type": "code",
   "execution_count": 1,
   "metadata": {},
   "outputs": [
    {
     "ename": "error",
     "evalue": "OpenCV(4.8.0) D:\\a\\opencv-python\\opencv-python\\opencv\\modules\\imgproc\\src\\color.cpp:182: error: (-215:Assertion failed) !_src.empty() in function 'cv::cvtColor'\n",
     "output_type": "error",
     "traceback": [
      "\u001b[1;31m---------------------------------------------------------------------------\u001b[0m",
      "\u001b[1;31merror\u001b[0m                                     Traceback (most recent call last)",
      "Cell \u001b[1;32mIn[1], line 27\u001b[0m\n\u001b[0;32m     24\u001b[0m \u001b[38;5;28;01mwhile\u001b[39;00m \u001b[38;5;28;01mTrue\u001b[39;00m:\n\u001b[0;32m     25\u001b[0m     \u001b[38;5;66;03m# 1. Find hand Landmarks\u001b[39;00m\n\u001b[0;32m     26\u001b[0m     success, img \u001b[38;5;241m=\u001b[39m cap\u001b[38;5;241m.\u001b[39mread()\n\u001b[1;32m---> 27\u001b[0m     img \u001b[38;5;241m=\u001b[39m detector\u001b[38;5;241m.\u001b[39mfindHands(img)\n\u001b[0;32m     28\u001b[0m     lmList, bbox \u001b[38;5;241m=\u001b[39m detector\u001b[38;5;241m.\u001b[39mfindPosition(img)\n\u001b[0;32m     29\u001b[0m     \u001b[38;5;66;03m# 2. Get the tip of the index and middle fingers\u001b[39;00m\n",
      "File \u001b[1;32m~\\OneDrive\\Desktop\\AiVirtualMouse\\HandTracking.py:19\u001b[0m, in \u001b[0;36mhandDetector.findHands\u001b[1;34m(self, img, draw)\u001b[0m\n\u001b[0;32m     18\u001b[0m \u001b[38;5;28;01mdef\u001b[39;00m \u001b[38;5;21mfindHands\u001b[39m(\u001b[38;5;28mself\u001b[39m,img,draw\u001b[38;5;241m=\u001b[39m\u001b[38;5;28;01mTrue\u001b[39;00m):\n\u001b[1;32m---> 19\u001b[0m     imgRGB \u001b[38;5;241m=\u001b[39m cv2\u001b[38;5;241m.\u001b[39mcvtColor(img, cv2\u001b[38;5;241m.\u001b[39mCOLOR_BGR2RGB)\n\u001b[0;32m     20\u001b[0m     \u001b[38;5;28mself\u001b[39m\u001b[38;5;241m.\u001b[39mresults \u001b[38;5;241m=\u001b[39m \u001b[38;5;28mself\u001b[39m\u001b[38;5;241m.\u001b[39mhands\u001b[38;5;241m.\u001b[39mprocess(imgRGB)\n\u001b[0;32m     21\u001b[0m     \u001b[38;5;66;03m#print(results.multi_hand_landmarks)\u001b[39;00m\n",
      "\u001b[1;31merror\u001b[0m: OpenCV(4.8.0) D:\\a\\opencv-python\\opencv-python\\opencv\\modules\\imgproc\\src\\color.cpp:182: error: (-215:Assertion failed) !_src.empty() in function 'cv::cvtColor'\n"
     ]
    }
   ],
   "source": [
    "import cv2\n",
    "import numpy as np\n",
    "import HandTracking as htm\n",
    "import time\n",
    "import pyautogui\n",
    "\n",
    "##########################\n",
    "wCam, hCam = 640, 480\n",
    "frameR = 100 # Frame Reduction\n",
    "smoothening = 7\n",
    "#########################\n",
    "\n",
    "pTime = 0\n",
    "plocX, plocY = 0, 0\n",
    "clocX, clocY = 0, 0\n",
    "\n",
    "cap = cv2.VideoCapture(1)\n",
    "cap.set(3, wCam)\n",
    "cap.set(4, hCam)\n",
    "detector = htm.handDetector(maxHands=1)\n",
    "wScr, hScr = pyautogui.size()\n",
    "# print(wScr, hScr)\n",
    "\n",
    "while True:\n",
    "    # 1. Find hand Landmarks\n",
    "    success, img = cap.read()\n",
    "    img = detector.findHands(img)\n",
    "    lmList, bbox = detector.findPosition(img)\n",
    "    # 2. Get the tip of the index and middle fingers\n",
    "    if len(lmList) != 0:\n",
    "        x1, y1 = lmList[8][1:]\n",
    "        x2, y2 = lmList[12][1:]\n",
    "        # print(x1, y1, x2, y2)\n",
    "    \n",
    "    # 3. Check which fingers are up\n",
    "    fingers = detector.fingersUp()\n",
    "    # print(fingers)\n",
    "    cv2.rectangle(img, (frameR, frameR), (wCam - frameR, hCam - frameR),\n",
    "    (255, 0, 255), 2)\n",
    "    # 4. Only Index Finger : Moving Mode\n",
    "    if fingers[1] == 1 and fingers[2] == 0:\n",
    "        # 5. Convert Coordinates\n",
    "        x3 = np.interp(x1, (frameR, wCam - frameR), (0, wScr))\n",
    "        y3 = np.interp(y1, (frameR, hCam - frameR), (0, hScr))\n",
    "        # 6. Smoothen Values\n",
    "        clocX = plocX + (x3 - plocX) / smoothening\n",
    "        clocY = plocY + (y3 - plocY) / smoothening\n",
    "    \n",
    "        # 7. Move Mouse\n",
    "        pyautogui.mouse.move(wScr - clocX, clocY)\n",
    "        cv2.circle(img, (x1, y1), 15, (255, 0, 255), cv2.FILLED)\n",
    "        plocX, plocY = clocX, clocY\n",
    "        \n",
    "    # 8. Both Index and middle fingers are up : Clicking Mode\n",
    "    if fingers[1] == 1 and fingers[2] == 1:\n",
    "        # 9. Find distance between fingers\n",
    "        length, img, lineInfo = detector.findDistance(8, 12, img)\n",
    "        print(length)\n",
    "        # 10. Click mouse if distance short\n",
    "        if length < 40:\n",
    "            cv2.circle(img, (lineInfo[4], lineInfo[5]),\n",
    "            15, (0, 255, 0), cv2.FILLED)\n",
    "            pyautogui.mouse.click()\n",
    "    \n",
    "    # 11. Frame Rate\n",
    "    cTime = time.time()\n",
    "    fps = 1 / (cTime - pTime)\n",
    "    pTime = cTime\n",
    "    cv2.putText(img, str(int(fps)), (20, 50), cv2.FONT_HERSHEY_PLAIN, 3,\n",
    "    (255, 0, 0), 3)\n",
    "    # 12. Display\n",
    "    cv2.imshow(\"Image\", img)\n",
    "    cv2.waitKey(1)"
   ]
  },
  {
   "cell_type": "code",
   "execution_count": null,
   "metadata": {},
   "outputs": [],
   "source": []
  }
 ],
 "metadata": {
  "kernelspec": {
   "display_name": "Python 3 (ipykernel)",
   "language": "python",
   "name": "python3"
  },
  "language_info": {
   "codemirror_mode": {
    "name": "ipython",
    "version": 3
   },
   "file_extension": ".py",
   "mimetype": "text/x-python",
   "name": "python",
   "nbconvert_exporter": "python",
   "pygments_lexer": "ipython3",
   "version": "3.11.3"
  }
 },
 "nbformat": 4,
 "nbformat_minor": 2
}
